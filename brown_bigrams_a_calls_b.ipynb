{
 "cells": [
  {
   "cell_type": "markdown",
   "metadata": {},
   "source": [
    "### Creates a dictionary of bigrams where word 'a' calls word 'b', giving the probability of word 'a' given 'b'"
   ]
  },
  {
   "cell_type": "code",
   "execution_count": 1,
   "metadata": {},
   "outputs": [],
   "source": [
    "from collections import Counter, defaultdict\n",
    "from nltk.corpus import brown"
   ]
  },
  {
   "cell_type": "code",
   "execution_count": 2,
   "metadata": {},
   "outputs": [
    {
     "name": "stdout",
     "output_type": "stream",
     "text": [
      "Words:  1161192 \n",
      "Sents:  57340 \n",
      "Word Count:  56057\n"
     ]
    }
   ],
   "source": [
    "brown_words = brown.words()\n",
    "brown_sents = brown.sents()\n",
    "word_count = Counter(brown_words)\n",
    "del brown # to save memory\n",
    "print(\"Words: \", len(brown_words), \"\\nSents: \", len(brown_sents), \"\\nWord Count: \", len(word_count))"
   ]
  },
  {
   "cell_type": "code",
   "execution_count": null,
   "metadata": {},
   "outputs": [],
   "source": [
    "bigram_count = {}\n",
    "V = len(word_count)\n",
    "def default_prob():\n",
    "    return (1/V)\n",
    "bigram_count = defaultdict(default_prob)\n",
    "\n",
    "for sent in brown_sents:\n",
    "    # print(sent)\n",
    "    a = 0\n",
    "    b = 1\n",
    "    no_b = False\n",
    "    for w in sent:\n",
    "        counter = 0\n",
    "        test_a = 0\n",
    "        test_b = 1\n",
    "        word_a = sent[a]\n",
    "        if word_a in bigram_count:\n",
    "            pass\n",
    "        else:\n",
    "            bigram_count[word_a] = {}\n",
    "        \n",
    "        for word in brown_words:\n",
    "            try:\n",
    "                word_b = sent[b]\n",
    "                if word_b in bigram_count[word_a]:\n",
    "                    # print(\"Probability '%s' given '%s' already calculated: \" % (word_b, word_a), bigram_count[word_a][word_b])\n",
    "                    break\n",
    "                else:\n",
    "                    pass\n",
    "                if sent[a:(b+1)] == brown_words[test_a:(test_b+1)]:\n",
    "                    counter += 1\n",
    "                    test_a += 1\n",
    "                    test_b += 1\n",
    "                else:\n",
    "                    test_a += 1\n",
    "                    test_b += 1\n",
    "            except:\n",
    "                no_b = True\n",
    "                # print(\"Exception, no 'b'!\", no_b)\n",
    "                break\n",
    "        if (no_b==True):\n",
    "            break\n",
    "        else:\n",
    "            prob_b_a = (counter + 1) / (word_count[a] + V)\n",
    "            # print(\"Probability '%s' given '%s': \" % (word_b, word_a), prob_b_a)\n",
    "            bigram_count[word_a][word_b] =  prob_b_a\n",
    "            a += 1\n",
    "            b += 1"
   ]
  },
  {
   "cell_type": "code",
   "execution_count": null,
   "metadata": {},
   "outputs": [],
   "source": [
    "bigram_count"
   ]
  }
 ],
 "metadata": {
  "kernelspec": {
   "display_name": "Python 3",
   "language": "python",
   "name": "python3"
  },
  "language_info": {
   "codemirror_mode": {
    "name": "ipython",
    "version": 3
   },
   "file_extension": ".py",
   "mimetype": "text/x-python",
   "name": "python",
   "nbconvert_exporter": "python",
   "pygments_lexer": "ipython3",
   "version": "3.6.4"
  }
 },
 "nbformat": 4,
 "nbformat_minor": 2
}
